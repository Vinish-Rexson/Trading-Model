{
 "cells": [
  {
   "cell_type": "code",
   "execution_count": 1,
   "id": "0a6fb46c",
   "metadata": {
    "ExecuteTime": {
     "end_time": "2024-05-19T16:39:04.582861Z",
     "start_time": "2024-05-19T16:39:04.552554Z"
    },
    "papermill": {
     "duration": 0.030532,
     "end_time": "2024-05-22T10:07:54.774409",
     "exception": false,
     "start_time": "2024-05-22T10:07:54.743877",
     "status": "completed"
    },
    "tags": []
   },
   "outputs": [],
   "source": [
    "import importlib\n",
    "import importlib.metadata\n",
    "import subprocess\n",
    "import sys\n",
    "from packaging import version\n",
    "\n",
    "\n",
    "def install_dependencies(recheck=False):\n",
    "    if not recheck:\n",
    "        print(\"Checking Dependencies\")\n",
    "\n",
    "    pkgs = ['pandas', 'numpy', 'pandas_ta', 'tqdm', 'tensorflow', 'matplotlib', 'scikit-learn', 'openpyxl', 'jupyter',\n",
    "            'keras-tuner']\n",
    "    pkgs_ver = {\n",
    "        'tensorflow': '2.16.1',\n",
    "        'scikit-learn': '1.4.2',\n",
    "    }\n",
    "\n",
    "    # Dictionary to handle special import names\n",
    "    import_names = {\n",
    "        'scikit-learn': 'sklearn',\n",
    "        'keras-tuner': 'kerastuner'\n",
    "    }\n",
    "\n",
    "    failed_pkgs = []\n",
    "\n",
    "    for pkg in pkgs:\n",
    "        try:\n",
    "            import_name = import_names.get(pkg, pkg)\n",
    "            module = importlib.import_module(import_name)\n",
    "\n",
    "            if pkg in pkgs_ver:\n",
    "                # Check if the installed version matches the required version\n",
    "                installed_version = importlib.metadata.version(pkg)\n",
    "                required_version = pkgs_ver[pkg]\n",
    "\n",
    "                if version.parse(installed_version) != version.parse(required_version):\n",
    "                    raise ImportError(f\"{pkg} version mismatch: {installed_version} != {required_version}\")\n",
    "\n",
    "        except ImportError:\n",
    "            if not recheck:\n",
    "                print(\"Installing Package:\", pkg)\n",
    "                pkg_to_install = f\"{pkg}=={pkgs_ver[pkg]}\" if pkg in pkgs_ver else pkg\n",
    "                try:\n",
    "                    result = subprocess.run([sys.executable, '-m', 'pip', 'install', pkg_to_install, '-q'], check=True)\n",
    "                    print(f\"{pkg} Installed Successfully\")\n",
    "                except subprocess.CalledProcessError:\n",
    "                    print(f\"{pkg} Installation Failed\")\n",
    "                    failed_pkgs.append(pkg)\n",
    "            else:\n",
    "                failed_pkgs.append(pkg)\n",
    "        except Exception as e:\n",
    "            print(\"Error:\", e)\n",
    "\n",
    "    if recheck:\n",
    "        if len(failed_pkgs) > 0:\n",
    "            return False, failed_pkgs\n",
    "        else:\n",
    "            return True, None\n",
    "\n",
    "    if not recheck:\n",
    "        rst, pkg = install_dependencies(recheck=True)\n",
    "        if not rst:\n",
    "            print(\"Failed to Install The Following Packages:\", pkg)\n",
    "            print(\"KINDLY INSTALL IT MANUALLY AND TRY AGAIN\")\n",
    "            return False\n",
    "        print(\"All Dependencies Installed Successfully\")\n",
    "\n",
    "    return True"
   ]
  },
  {
   "cell_type": "code",
   "execution_count": 2,
   "id": "fc61e954",
   "metadata": {
    "ExecuteTime": {
     "end_time": "2024-05-19T16:39:23.548244Z",
     "start_time": "2024-05-19T16:39:07.426817Z"
    },
    "papermill": {
     "duration": 57.064923,
     "end_time": "2024-05-22T10:08:51.844052",
     "exception": false,
     "start_time": "2024-05-22T10:07:54.779129",
     "status": "completed"
    },
    "tags": []
   },
   "outputs": [
    {
     "name": "stdout",
     "output_type": "stream",
     "text": [
      "Checking Dependencies\n",
      "Installing Package: keras-tuner\n",
      "keras-tuner Installed Successfully\n",
      "All Dependencies Installed Successfully\n"
     ]
    }
   ],
   "source": [
    "if not install_dependencies():\n",
    "    exit()\n",
    "\n",
    "import warnings\n",
    "\n",
    "warnings.filterwarnings('ignore')\n",
    "\n",
    "import pandas as pd\n",
    "import numpy as np\n",
    "import pandas_ta as ta\n",
    "from tqdm import tqdm\n",
    "from tqdm.keras import TqdmCallback\n",
    "from sklearn.preprocessing import MinMaxScaler\n",
    "from pathlib import Path\n",
    "import tensorflow as tf\n",
    "from tensorflow.keras import optimizers\n",
    "from tensorflow.keras.callbacks import ModelCheckpoint, EarlyStopping, ReduceLROnPlateau, TensorBoard, History\n",
    "from tensorflow.keras.models import Model\n",
    "from tensorflow.keras.layers import LSTM, Dense, Dropout, Input, Activation, Bidirectional\n",
    "import matplotlib.pyplot as plt\n",
    "from sklearn.metrics import mean_squared_error, mean_absolute_error, r2_score, mean_absolute_percentage_error"
   ]
  },
  {
   "cell_type": "code",
   "execution_count": 3,
   "id": "e5603169",
   "metadata": {
    "ExecuteTime": {
     "end_time": "2024-05-19T16:39:34.558319Z",
     "start_time": "2024-05-19T16:39:34.472644Z"
    },
    "papermill": {
     "duration": 0.051429,
     "end_time": "2024-05-22T10:08:51.905399",
     "exception": false,
     "start_time": "2024-05-22T10:08:51.853970",
     "status": "completed"
    },
    "tags": []
   },
   "outputs": [],
   "source": [
    "_data_path = r\"C:\\Users\\vinis\\OneDrive\\Desktop\\Vinish Codes\\ML\\data\\TATAMOTORS.xlsx\"\n",
    "if not Path(_data_path).exists():\n",
    "    print(\"Data not found\")\n",
    "    raise FileNotFoundError(\"Stock Data Not Found AT : \", _data_path)\n",
    "else:\n",
    "    _data = pd.ExcelFile(_data_path)"
   ]
  },
  {
   "cell_type": "code",
   "execution_count": 4,
   "id": "49c18415",
   "metadata": {
    "ExecuteTime": {
     "end_time": "2024-05-19T16:42:41.990102Z",
     "start_time": "2024-05-19T16:42:41.902687Z"
    },
    "papermill": {
     "duration": 0.072696,
     "end_time": "2024-05-22T10:08:51.987354",
     "exception": false,
     "start_time": "2024-05-22T10:08:51.914658",
     "status": "completed"
    },
    "tags": []
   },
   "outputs": [],
   "source": [
    "class Trainer:\n",
    "    def __init__(self, _data):\n",
    "        self._data = _data\n",
    "        self.data_path = _data.io\n",
    "        self.stock_name = Path(_data_path).stem\n",
    "        self.sheet_name = _data.sheet_names\n",
    "        self.total_sheets = len(self.sheet_name)\n",
    "        self.timeframes = [sheet.removeprefix(self.stock_name + '_') for sheet in\n",
    "                           self.sheet_name]\n",
    "        self.paths = self.path_initializer()\n",
    "        self.raw_data = {}\n",
    "        self.data = {}\n",
    "        self.data_summary = {}\n",
    "        self.column_names = {}\n",
    "        self.scaled_data = {}\n",
    "        self.X = {}\n",
    "        self.Y = {}\n",
    "        self.X_train = {}\n",
    "        self.X_test = {}\n",
    "        self.Y_train = {}\n",
    "        self.Y_test = {}\n",
    "        self.loss_fn = 'mse'\n",
    "        self.model = {}\n",
    "        self.y_pred = {}\n",
    "        self.model_metrics = {}\n",
    "\n",
    "    def path_initializer(self):\n",
    "        print(\"Creating Necessary Paths\")\n",
    "        base_path = Path('ALGO DATA')\n",
    "        base_path.mkdir(exist_ok=True)\n",
    "        stock_path = base_path / self.stock_name\n",
    "        stock_path.mkdir(exist_ok=True)\n",
    "        model_path = stock_path / 'MODEL'\n",
    "        model_path.mkdir(exist_ok=True)\n",
    "        log_path = model_path / 'LOG'\n",
    "        log_path.mkdir(exist_ok=True)\n",
    "        model_data_path = stock_path / 'DATA'\n",
    "        if not model_data_path.exists():\n",
    "            with open(model_data_path, 'w') as f:\n",
    "                f.write('Model Datas : \\n')\n",
    "        paths = {\n",
    "            'base_path': base_path,\n",
    "            'stock_path': stock_path,\n",
    "            'model_path': model_path,\n",
    "            'log_path': log_path,\n",
    "            'model_data_path': model_data_path\n",
    "        }\n",
    "\n",
    "        for key, value in paths.items():\n",
    "            if not value.exists():\n",
    "                print(\"Path not found : \", value)\n",
    "            else:\n",
    "                print(\"All Necessary Paths Created Successfully\")\n",
    "                return paths\n",
    "\n",
    "    def fetch_data(self):\n",
    "        with tqdm(total=len(self.timeframes), desc=\"Loading Data\") as pbar:\n",
    "            if len(self.timeframes) == 0:\n",
    "                raise ValueError(\"Timeframe Not Found\")\n",
    "            for timeframe in self.timeframes:\n",
    "                df = self._data.parse(self.stock_name + '_' + timeframe)\n",
    "                df.index = pd.to_datetime(df['DateTime'], format='%d-%m-%Y %H:%M:%S')\n",
    "                df.drop('DateTime', axis=1, inplace=True)\n",
    "                self.raw_data[timeframe] = df\n",
    "                self.data_summary[timeframe] = {\n",
    "                    'start_date': df.index.min(),\n",
    "                    'end_date': df.index.max(),\n",
    "                    'total_data': len(df)\n",
    "                }\n",
    "                pbar.update(1)\n",
    "            pbar.set_postfix({\"STATUS\": \"SUCCESS\"})\n",
    "        return True\n",
    "\n",
    "    def feature_engneering(self):\n",
    "        with tqdm(total=len(self.timeframes), desc=\"Processing Data (Stage 1)\") as pbar:\n",
    "            for timeframe in self.timeframes:\n",
    "                try:\n",
    "                    self.raw_data[timeframe]\n",
    "                except KeyError:\n",
    "                    raise ValueError(\"Data Not Found (LOOK LIKE LOADING DATA NOT DONE PROPERLY)\")\n",
    "                if self.raw_data[timeframe].empty:\n",
    "                    raise ValueError(\"Data Not Found (LOOK LIKE LOADING DATA NOT DONE PROPERLY)\")\n",
    "                df = self.raw_data[timeframe]\n",
    "                close = df['Close']\n",
    "                open = df['Open']\n",
    "                high = df['High']\n",
    "                low = df['Low']\n",
    "                volume = df['Volume']\n",
    "\n",
    "                df['PRICE_CHANDE'] = close.pct_change()\n",
    "\n",
    "                df.ta.rsi(close=close, length=14, append=True)\n",
    "                df.ta.macd(close=close, append=True)\n",
    "                df.ta.ema(close=close, length=8, append=True)\n",
    "                df.ta.ema(close=close, length=21, append=True)\n",
    "                df.ta.ema(close=close, length=50, append=True)\n",
    "\n",
    "                df.ta.sma(close=close, length=8, append=True)\n",
    "                df.ta.sma(close=close, length=21, append=True)\n",
    "                df.ta.sma(close=close, length=50, append=True)\n",
    "\n",
    "                df.ta.vwap(high=high, low=low, close=close, volume=volume, append=True)\n",
    "                df.ta.atr(high=high, low=low, close=close, append=True)\n",
    "                df.ta.adx(high=high, low=low, close=close, append=True)\n",
    "\n",
    "                macd = ta.macd(close)\n",
    "                df['MACD'] = macd['MACD_12_26_9']\n",
    "                df['MACD_SIGNAL'] = macd['MACDs_12_26_9']\n",
    "                df['MACD_HIST'] = macd['MACDh_12_26_9']\n",
    "\n",
    "                stochastic = ta.stoch(high, low, close)\n",
    "                df['STOCH_K'] = stochastic['STOCHk_14_3_3']\n",
    "                df['STOCH_D'] = stochastic['STOCHd_14_3_3']\n",
    "\n",
    "                bband = ta.bbands(close)\n",
    "                df['BBAND_UPPER'] = bband['BBU_5_2.0']\n",
    "                df['BBAND_LOWER'] = bband['BBL_5_2.0']\n",
    "                df['BBAND_MIDDLE'] = bband['BBM_5_2.0']\n",
    "                df['BBAND_WIDTH'] = bband['BBB_5_2.0']\n",
    "                df['BBAND_PERCENT'] = bband['BBP_5_2.0']\n",
    "\n",
    "                supert = ta.supertrend(high, low, close)\n",
    "                df['SUPERT'] = supert['SUPERT_7_3.0']\n",
    "                df['SUPERT_DIRECTION'] = supert['SUPERTd_7_3.0']\n",
    "\n",
    "                df = df.dropna()\n",
    "                self.column_names[timeframe] = df.columns\n",
    "                self.data[timeframe] = df\n",
    "                self.data_summary[timeframe]['total_features'] = len(df.columns)\n",
    "                self.data_summary[timeframe]['features'] = df.columns\n",
    "                pbar.update(1)\n",
    "            pbar.set_postfix({\"STATUS\": \"SUCCESS\"})\n",
    "        return True\n",
    "\n",
    "    def scale_data(self):\n",
    "        with tqdm(total=len(self.timeframes), desc=\"Processing Data (Stage 2)\") as pbar:\n",
    "            for timeframe in self.timeframes:\n",
    "                try:\n",
    "                    df = self.data[timeframe]\n",
    "                except KeyError:\n",
    "                    raise ValueError(\"Data Not Found (LOOK LIKE Processing Data (Stage 1) NOT DONE PROPERLY)\")\n",
    "                except Exception as e:\n",
    "                    raise e\n",
    "                sc = MinMaxScaler()\n",
    "                try:\n",
    "                    self.scaled_data[timeframe] = sc.fit_transform(df)\n",
    "                except ValueError:\n",
    "                    raise ValueError(\"Data Not Found (LOOK LIKE Processing Data (Stage 1) NOT DONE PROPERLY)\")\n",
    "                self.data_summary[timeframe]['scaler_min'] = sc.data_min_\n",
    "                self.data_summary[timeframe]['scaler_max'] = sc.data_max_\n",
    "                pbar.update(1)\n",
    "            pbar.set_postfix({\"STATUS\": \"SUCCESS\"})\n",
    "        return True\n",
    "\n",
    "    def split_backdata(self):\n",
    "        with tqdm(total=self.total_sheets, desc=\"Processing Data (Stage 3)\") as pbar:\n",
    "            backdata = {\n",
    "                'ONE_MINUTE': 60,\n",
    "                'THREE_MINUTE': 60,\n",
    "                'FIVE_MINUTE': 60,\n",
    "\n",
    "            }\n",
    "            for timeframe in self.timeframes:\n",
    "                X = []\n",
    "                Y = []\n",
    "                try:\n",
    "                    back_data = backdata[timeframe]\n",
    "                except KeyError:\n",
    "                    batch_data = 60\n",
    "                total_df = len(self.column_names[timeframe])\n",
    "                try:\n",
    "                    feature = self.column_names[timeframe].get_loc('Close')\n",
    "                except KeyError:\n",
    "                    raise ValueError(\"Close Price Not Found\")\n",
    "\n",
    "                for i in range(len(self.scaled_data[timeframe]) - back_data - 1):\n",
    "                    a = self.scaled_data[timeframe][i:(i + back_data), :]\n",
    "                    X.append(a)\n",
    "                    Y.append(self.scaled_data[timeframe][i + back_data, feature])\n",
    "                X, Y = np.array(X), np.array(Y)\n",
    "                self.X[timeframe] = X.reshape(X.shape[0], X.shape[1], total_df)\n",
    "                self.Y[timeframe] = Y\n",
    "                pbar.update(1)\n",
    "                self.data_summary[timeframe]['total_data'] = self.X[timeframe].shape[0]\n",
    "            pbar.set_postfix({\"STATUS\": \"SUCCESS\"})\n",
    "        return True\n",
    "\n",
    "    def split_data(self):\n",
    "        with tqdm(total=self.total_sheets, desc=\"Processing Data (Stage 4)\") as pbar:\n",
    "            for timeframe in self.timeframes:\n",
    "                df = self.scaled_data[timeframe]\n",
    "                split_limit = int(len(df) * 0.8)\n",
    "                self.X_train[timeframe] = self.X[timeframe][:split_limit]\n",
    "                self.X_test[timeframe] = self.X[timeframe][split_limit:]\n",
    "                self.Y_train[timeframe] = self.Y[timeframe][:split_limit]\n",
    "                self.Y_test[timeframe] = self.Y[timeframe][split_limit:]\n",
    "                pbar.update(1)\n",
    "                self.data_summary[timeframe]['train_data'] = self.X_train[timeframe].shape[0]\n",
    "                self.data_summary[timeframe]['test_data'] = self.X_test[timeframe].shape[0]\n",
    "            pbar.set_postfix({\"STATUS\": \"SUCCESS\"})\n",
    "        return True\n",
    "\n",
    "    def process_data(self):\n",
    "        if not bool(self.raw_data):\n",
    "            raise ValueError(\"Data Not Found (Kindly Fetch Data First)\")\n",
    "        if not self.feature_engneering():\n",
    "            raise ValueError(\"Feature Engineering Not Completed\")\n",
    "        if not self.scale_data():\n",
    "            raise ValueError(\"Data Scaling Not Completed\")\n",
    "        if not self.split_backdata():\n",
    "            raise ValueError(\"Data Splitting Not Completed\")\n",
    "        if not self.split_data():\n",
    "            raise ValueError(\"Data Splitting Not Completed\")\n",
    "        return True\n",
    "\n",
    "    def train_model(self):\n",
    "        def build_model(timeframe):\n",
    "            lstm_input = Input(shape=(self.X_train[timeframe].shape[1], self.X_train[timeframe].shape[2]),\n",
    "                               name='lstm_input')\n",
    "            input = Bidirectional(LSTM(units=250, return_sequences=False,activation='sigmoid', name='lstm_1'))(lstm_input)\n",
    "            input = Dropout(0.1)(input)\n",
    "            input = Dense(1)(input)\n",
    "            output = Activation('linear', name=\"output\")(input)\n",
    "            model = Model(inputs=lstm_input, outputs=output, name=f\"{self.stock_name}_{timeframe}\")\n",
    "            optimizer = optimizers.Adam()\n",
    "            model.compile(optimizer=optimizer, loss=self.loss_fn)\n",
    "            return model\n",
    "\n",
    "        with tqdm(total=self.total_sheets, desc=\"Training Model\") as pbar:\n",
    "            for timeframe in self.timeframes:\n",
    "                try:\n",
    "                    self.X_train[timeframe]\n",
    "                except KeyError:\n",
    "                    raise ValueError(\"Data Not Found (LOOK LIKE Processing Data (Stage 3) NOT DONE PROPERLY)\")\n",
    "                except Exception as e:\n",
    "                    raise e\n",
    "                model = build_model(timeframe)\n",
    "                model.summary()\n",
    "                model_path_checkpt = self.paths['model_path'] / f'{self.stock_name}_{timeframe}_checkpoint.keras'\n",
    "                model_checkpoint = ModelCheckpoint(model_path_checkpt, monitor='val_loss', save_best_only=True,\n",
    "                                                   verbose=0)\n",
    "                early_stopping = EarlyStopping(monitor='val_loss', patience=10, verbose=0)\n",
    "                reduce_lr = ReduceLROnPlateau(monitor='val_loss', factor=0.2, patience=5, verbose=0)\n",
    "                tensorboard = TensorBoard(log_dir=self.paths['log_path'], histogram_freq=1, write_graph=True,\n",
    "                                          write_images=True)\n",
    "                history = History()\n",
    "                model.fit(self.X_train[timeframe], self.Y_train[timeframe], epochs=100, batch_size=16,\n",
    "                          validation_split=0.2, verbose=1,\n",
    "                          callbacks=[TqdmCallback(), model_checkpoint, early_stopping, reduce_lr, tensorboard, history])\n",
    "                pbar.update(1)\n",
    "                self.model[timeframe] = model\n",
    "            pbar.set_postfix({\"STATUS\": \"SUCCESS\"})\n",
    "        return True\n",
    "\n",
    "    def eval_model(self):\n",
    "        with tqdm(total=self.total_sheets, desc=\"Evaluating Model\") as pbar:\n",
    "            for timeframe in self.timeframes:\n",
    "                try:\n",
    "                    self.model[timeframe]\n",
    "                except KeyError:\n",
    "                    raise ValueError(\"Model Not Found (LOOK LIKE Training Model NOT DONE PROPERLY)\")\n",
    "                except Exception as e:\n",
    "                    raise e\n",
    "                print(\"EVALUATING MODEL FOR TIMEFRAME: \", timeframe)\n",
    "                self.y_pred[f'{timeframe}'] = self.model[f'{timeframe}'].predict(self.X_test[f'{timeframe}'])\n",
    "                mse = mean_squared_error(self.Y_test[f'{timeframe}'], self.y_pred[f'{timeframe}'])\n",
    "                mae = mean_absolute_error(self.Y_test[f'{timeframe}'], self.y_pred[f'{timeframe}'])\n",
    "                mape = mean_absolute_percentage_error(self.Y_test[f'{timeframe}'], self.y_pred[f'{timeframe}'])\n",
    "                r2 = r2_score(self.Y_test[f'{timeframe}'], self.y_pred[f'{timeframe}'])\n",
    "                self.model_metrics[f'{timeframe}'] = {\"MSE\": mse, \"MAE\": mae, \"MAPE\": mape, \"R2\": r2}\n",
    "                self.data_summary[timeframe]['model_metrics'] = self.model_metrics[f'{timeframe}']\n",
    "                pbar.update(1)\n",
    "            pbar.set_postfix({\"STATUS\": \"SUCCESS\"})\n",
    "\n",
    "    def graphical_report_analysis(self):\n",
    "        with tqdm(total=self.total_sheets, desc=\"Graphical Analysis\") as pbar:\n",
    "            for timeframe in self.timeframes:\n",
    "                plt.figure(figsize=(16, 8))\n",
    "                plt.title(f\"{self.stock_name} {timeframe}\")\n",
    "                plt.plot(self.Y_test[f'{timeframe}'], label='Actual')\n",
    "                plt.plot(self.y_pred[f'{timeframe}'], label='Predicted')\n",
    "                plt.legend()\n",
    "                plt.show()\n",
    "                pbar.update(1)\n",
    "            pbar.set_postfix({\"STATUS\": \"SUCCESS\"})\n",
    "\n",
    "    def save_model(self):\n",
    "        with tqdm(total=self.total_sheets, desc=\"Saving Model\") as pbar:\n",
    "            for timeframe in self.timeframes:\n",
    "                try:\n",
    "                    self.model[timeframe]\n",
    "                except KeyError:\n",
    "                    raise ValueError(\"Model Not Found (LOOK LIKE Training Model NOT DONE PROPERLY)\")\n",
    "                except Exception as e:\n",
    "                    raise e\n",
    "                model_path = self.paths['model_path'] / f'{self.stock_name}_{timeframe}_model.keras'\n",
    "                model_weight_path = self.paths['model_path'] / f'{self.stock_name}_{timeframe}_model.weights.h5'\n",
    "                self.model[timeframe].save(model_path)\n",
    "                self.model[timeframe].save_weights(model_weight_path)\n",
    "                with open(self.paths['model_data_path'], 'a') as f:\n",
    "                    for key, value in self.data_summary[timeframe].items():\n",
    "                        f.write(f\"{key} : {value}\\n\")\n",
    "                pbar.update(1)\n",
    "            pbar.set_postfix({\"STATUS\": \"SUCCESS\"})"
   ]
  },
  {
   "cell_type": "code",
   "execution_count": 5,
   "id": "bf34d12c",
   "metadata": {
    "ExecuteTime": {
     "end_time": "2024-05-19T16:42:42.408298Z",
     "start_time": "2024-05-19T16:42:42.381253Z"
    },
    "papermill": {
     "duration": 0.017026,
     "end_time": "2024-05-22T10:08:52.013551",
     "exception": false,
     "start_time": "2024-05-22T10:08:51.996525",
     "status": "completed"
    },
    "tags": []
   },
   "outputs": [
    {
     "name": "stdout",
     "output_type": "stream",
     "text": [
      "Creating Necessary Paths\n",
      "All Necessary Paths Created Successfully\n"
     ]
    }
   ],
   "source": [
    "trainer = Trainer(_data)"
   ]
  },
  {
   "cell_type": "code",
   "execution_count": 6,
   "id": "21455400",
   "metadata": {
    "ExecuteTime": {
     "end_time": "2024-05-19T16:43:04.951491Z",
     "start_time": "2024-05-19T16:42:42.912601Z"
    },
    "papermill": {
     "duration": 18.970329,
     "end_time": "2024-05-22T10:09:10.992996",
     "exception": false,
     "start_time": "2024-05-22T10:08:52.022667",
     "status": "completed"
    },
    "tags": []
   },
   "outputs": [
    {
     "name": "stderr",
     "output_type": "stream",
     "text": [
      "Loading Data: 100%|██████████████████████████████████████████████████████| 1/1 [00:12<00:00, 12.28s/it, STATUS=SUCCESS]\n"
     ]
    },
    {
     "data": {
      "text/plain": [
       "True"
      ]
     },
     "execution_count": 6,
     "metadata": {},
     "output_type": "execute_result"
    }
   ],
   "source": [
    "trainer.fetch_data()"
   ]
  },
  {
   "cell_type": "code",
   "execution_count": 7,
   "id": "341b7b5c",
   "metadata": {
    "ExecuteTime": {
     "end_time": "2024-05-19T16:43:37.65464Z",
     "start_time": "2024-05-19T16:43:09.090267Z"
    },
    "papermill": {
     "duration": 15.046715,
     "end_time": "2024-05-22T10:09:26.049911",
     "exception": false,
     "start_time": "2024-05-22T10:09:11.003196",
     "status": "completed"
    },
    "tags": []
   },
   "outputs": [
    {
     "name": "stderr",
     "output_type": "stream",
     "text": [
      "Processing Data (Stage 1): 100%|█████████████████████████████████████████| 1/1 [00:07<00:00,  7.91s/it, STATUS=SUCCESS]\n",
      "Processing Data (Stage 2): 100%|█████████████████████████████████████████| 1/1 [00:00<00:00,  7.05it/s, STATUS=SUCCESS]\n",
      "Processing Data (Stage 3): 100%|█████████████████████████████████████████| 1/1 [00:01<00:00,  1.90s/it, STATUS=SUCCESS]\n",
      "Processing Data (Stage 4): 100%|█████████████████████████████████████████| 1/1 [00:00<00:00, 25.32it/s, STATUS=SUCCESS]\n"
     ]
    },
    {
     "data": {
      "text/plain": [
       "True"
      ]
     },
     "execution_count": 7,
     "metadata": {},
     "output_type": "execute_result"
    }
   ],
   "source": [
    "trainer.process_data()"
   ]
  },
  {
   "cell_type": "code",
   "execution_count": null,
   "id": "88373c73",
   "metadata": {
    "ExecuteTime": {
     "end_time": "2024-05-19T16:44:29.463175Z",
     "start_time": "2024-05-19T16:43:40.057155Z"
    },
    "papermill": {
     "duration": 1710.744883,
     "end_time": "2024-05-22T10:37:56.807598",
     "exception": false,
     "start_time": "2024-05-22T10:09:26.062715",
     "status": "completed"
    },
    "tags": []
   },
   "outputs": [
    {
     "name": "stderr",
     "output_type": "stream",
     "text": [
      "Training Model:   0%|                                                                            | 0/1 [00:00<?, ?it/s]"
     ]
    },
    {
     "data": {
      "text/html": [
       "<pre style=\"white-space:pre;overflow-x:auto;line-height:normal;font-family:Menlo,'DejaVu Sans Mono',consolas,'Courier New',monospace\"><span style=\"font-weight: bold\">Model: \"TATAMOTORS_ONE_MINUTE\"</span>\n",
       "</pre>\n"
      ],
      "text/plain": [
       "\u001b[1mModel: \"TATAMOTORS_ONE_MINUTE\"\u001b[0m\n"
      ]
     },
     "metadata": {},
     "output_type": "display_data"
    },
    {
     "data": {
      "text/html": [
       "<pre style=\"white-space:pre;overflow-x:auto;line-height:normal;font-family:Menlo,'DejaVu Sans Mono',consolas,'Courier New',monospace\">┏━━━━━━━━━━━━━━━━━━━━━━━━━━━━━━━━━━━━━━┳━━━━━━━━━━━━━━━━━━━━━━━━━━━━━┳━━━━━━━━━━━━━━━━━┓\n",
       "┃<span style=\"font-weight: bold\"> Layer (type)                         </span>┃<span style=\"font-weight: bold\"> Output Shape                </span>┃<span style=\"font-weight: bold\">         Param # </span>┃\n",
       "┡━━━━━━━━━━━━━━━━━━━━━━━━━━━━━━━━━━━━━━╇━━━━━━━━━━━━━━━━━━━━━━━━━━━━━╇━━━━━━━━━━━━━━━━━┩\n",
       "│ lstm_input (<span style=\"color: #0087ff; text-decoration-color: #0087ff\">InputLayer</span>)              │ (<span style=\"color: #00d7ff; text-decoration-color: #00d7ff\">None</span>, <span style=\"color: #00af00; text-decoration-color: #00af00\">60</span>, <span style=\"color: #00af00; text-decoration-color: #00af00\">33</span>)              │               <span style=\"color: #00af00; text-decoration-color: #00af00\">0</span> │\n",
       "├──────────────────────────────────────┼─────────────────────────────┼─────────────────┤\n",
       "│ bidirectional (<span style=\"color: #0087ff; text-decoration-color: #0087ff\">Bidirectional</span>)        │ (<span style=\"color: #00d7ff; text-decoration-color: #00d7ff\">None</span>, <span style=\"color: #00af00; text-decoration-color: #00af00\">500</span>)                 │         <span style=\"color: #00af00; text-decoration-color: #00af00\">568,000</span> │\n",
       "├──────────────────────────────────────┼─────────────────────────────┼─────────────────┤\n",
       "│ dropout (<span style=\"color: #0087ff; text-decoration-color: #0087ff\">Dropout</span>)                    │ (<span style=\"color: #00d7ff; text-decoration-color: #00d7ff\">None</span>, <span style=\"color: #00af00; text-decoration-color: #00af00\">500</span>)                 │               <span style=\"color: #00af00; text-decoration-color: #00af00\">0</span> │\n",
       "├──────────────────────────────────────┼─────────────────────────────┼─────────────────┤\n",
       "│ dense (<span style=\"color: #0087ff; text-decoration-color: #0087ff\">Dense</span>)                        │ (<span style=\"color: #00d7ff; text-decoration-color: #00d7ff\">None</span>, <span style=\"color: #00af00; text-decoration-color: #00af00\">1</span>)                   │             <span style=\"color: #00af00; text-decoration-color: #00af00\">501</span> │\n",
       "├──────────────────────────────────────┼─────────────────────────────┼─────────────────┤\n",
       "│ output (<span style=\"color: #0087ff; text-decoration-color: #0087ff\">Activation</span>)                  │ (<span style=\"color: #00d7ff; text-decoration-color: #00d7ff\">None</span>, <span style=\"color: #00af00; text-decoration-color: #00af00\">1</span>)                   │               <span style=\"color: #00af00; text-decoration-color: #00af00\">0</span> │\n",
       "└──────────────────────────────────────┴─────────────────────────────┴─────────────────┘\n",
       "</pre>\n"
      ],
      "text/plain": [
       "┏━━━━━━━━━━━━━━━━━━━━━━━━━━━━━━━━━━━━━━┳━━━━━━━━━━━━━━━━━━━━━━━━━━━━━┳━━━━━━━━━━━━━━━━━┓\n",
       "┃\u001b[1m \u001b[0m\u001b[1mLayer (type)                        \u001b[0m\u001b[1m \u001b[0m┃\u001b[1m \u001b[0m\u001b[1mOutput Shape               \u001b[0m\u001b[1m \u001b[0m┃\u001b[1m \u001b[0m\u001b[1m        Param #\u001b[0m\u001b[1m \u001b[0m┃\n",
       "┡━━━━━━━━━━━━━━━━━━━━━━━━━━━━━━━━━━━━━━╇━━━━━━━━━━━━━━━━━━━━━━━━━━━━━╇━━━━━━━━━━━━━━━━━┩\n",
       "│ lstm_input (\u001b[38;5;33mInputLayer\u001b[0m)              │ (\u001b[38;5;45mNone\u001b[0m, \u001b[38;5;34m60\u001b[0m, \u001b[38;5;34m33\u001b[0m)              │               \u001b[38;5;34m0\u001b[0m │\n",
       "├──────────────────────────────────────┼─────────────────────────────┼─────────────────┤\n",
       "│ bidirectional (\u001b[38;5;33mBidirectional\u001b[0m)        │ (\u001b[38;5;45mNone\u001b[0m, \u001b[38;5;34m500\u001b[0m)                 │         \u001b[38;5;34m568,000\u001b[0m │\n",
       "├──────────────────────────────────────┼─────────────────────────────┼─────────────────┤\n",
       "│ dropout (\u001b[38;5;33mDropout\u001b[0m)                    │ (\u001b[38;5;45mNone\u001b[0m, \u001b[38;5;34m500\u001b[0m)                 │               \u001b[38;5;34m0\u001b[0m │\n",
       "├──────────────────────────────────────┼─────────────────────────────┼─────────────────┤\n",
       "│ dense (\u001b[38;5;33mDense\u001b[0m)                        │ (\u001b[38;5;45mNone\u001b[0m, \u001b[38;5;34m1\u001b[0m)                   │             \u001b[38;5;34m501\u001b[0m │\n",
       "├──────────────────────────────────────┼─────────────────────────────┼─────────────────┤\n",
       "│ output (\u001b[38;5;33mActivation\u001b[0m)                  │ (\u001b[38;5;45mNone\u001b[0m, \u001b[38;5;34m1\u001b[0m)                   │               \u001b[38;5;34m0\u001b[0m │\n",
       "└──────────────────────────────────────┴─────────────────────────────┴─────────────────┘\n"
      ]
     },
     "metadata": {},
     "output_type": "display_data"
    },
    {
     "data": {
      "text/html": [
       "<pre style=\"white-space:pre;overflow-x:auto;line-height:normal;font-family:Menlo,'DejaVu Sans Mono',consolas,'Courier New',monospace\"><span style=\"font-weight: bold\"> Total params: </span><span style=\"color: #00af00; text-decoration-color: #00af00\">568,501</span> (2.17 MB)\n",
       "</pre>\n"
      ],
      "text/plain": [
       "\u001b[1m Total params: \u001b[0m\u001b[38;5;34m568,501\u001b[0m (2.17 MB)\n"
      ]
     },
     "metadata": {},
     "output_type": "display_data"
    },
    {
     "data": {
      "text/html": [
       "<pre style=\"white-space:pre;overflow-x:auto;line-height:normal;font-family:Menlo,'DejaVu Sans Mono',consolas,'Courier New',monospace\"><span style=\"font-weight: bold\"> Trainable params: </span><span style=\"color: #00af00; text-decoration-color: #00af00\">568,501</span> (2.17 MB)\n",
       "</pre>\n"
      ],
      "text/plain": [
       "\u001b[1m Trainable params: \u001b[0m\u001b[38;5;34m568,501\u001b[0m (2.17 MB)\n"
      ]
     },
     "metadata": {},
     "output_type": "display_data"
    },
    {
     "data": {
      "text/html": [
       "<pre style=\"white-space:pre;overflow-x:auto;line-height:normal;font-family:Menlo,'DejaVu Sans Mono',consolas,'Courier New',monospace\"><span style=\"font-weight: bold\"> Non-trainable params: </span><span style=\"color: #00af00; text-decoration-color: #00af00\">0</span> (0.00 B)\n",
       "</pre>\n"
      ],
      "text/plain": [
       "\u001b[1m Non-trainable params: \u001b[0m\u001b[38;5;34m0\u001b[0m (0.00 B)\n"
      ]
     },
     "metadata": {},
     "output_type": "display_data"
    },
    {
     "data": {
      "application/vnd.jupyter.widget-view+json": {
       "model_id": "ff6233fc5f9b41d0b6d750670cee8cea",
       "version_major": 2,
       "version_minor": 0
      },
      "text/plain": [
       "0epoch [00:00, ?epoch/s]"
      ]
     },
     "metadata": {},
     "output_type": "display_data"
    },
    {
     "data": {
      "application/vnd.jupyter.widget-view+json": {
       "model_id": "25e69fa2757846d68e82e27493be318f",
       "version_major": 2,
       "version_minor": 0
      },
      "text/plain": [
       "0batch [00:00, ?batch/s]"
      ]
     },
     "metadata": {},
     "output_type": "display_data"
    },
    {
     "name": "stdout",
     "output_type": "stream",
     "text": [
      "Epoch 1/100\n",
      "\u001b[1m1766/5086\u001b[0m \u001b[32m━━━━━━\u001b[0m\u001b[37m━━━━━━━━━━━━━━\u001b[0m \u001b[1m7:48\u001b[0m 141ms/step - loss: 0.0217"
     ]
    }
   ],
   "source": [
    "trainer.train_model()"
   ]
  },
  {
   "cell_type": "code",
   "execution_count": null,
   "id": "34247c7a",
   "metadata": {
    "execution": {
     "iopub.execute_input": "2024-05-22T10:38:01.628797Z",
     "iopub.status.busy": "2024-05-22T10:38:01.628382Z",
     "iopub.status.idle": "2024-05-22T10:38:06.617699Z",
     "shell.execute_reply": "2024-05-22T10:38:06.616713Z"
    },
    "papermill": {
     "duration": 7.374298,
     "end_time": "2024-05-22T10:38:06.621048",
     "exception": false,
     "start_time": "2024-05-22T10:37:59.246750",
     "status": "completed"
    },
    "tags": []
   },
   "outputs": [],
   "source": [
    "trainer.eval_model()\n",
    "print(trainer.model_metrics)"
   ]
  },
  {
   "cell_type": "code",
   "execution_count": null,
   "id": "10277f1f",
   "metadata": {
    "execution": {
     "iopub.execute_input": "2024-05-22T10:38:11.560225Z",
     "iopub.status.busy": "2024-05-22T10:38:11.559864Z",
     "iopub.status.idle": "2024-05-22T10:38:12.023134Z",
     "shell.execute_reply": "2024-05-22T10:38:12.022207Z"
    },
    "papermill": {
     "duration": 2.98051,
     "end_time": "2024-05-22T10:38:12.026043",
     "exception": false,
     "start_time": "2024-05-22T10:38:09.045533",
     "status": "completed"
    },
    "tags": []
   },
   "outputs": [],
   "source": [
    "trainer.graphical_report_analysis()"
   ]
  },
  {
   "cell_type": "code",
   "execution_count": null,
   "id": "d408edc9",
   "metadata": {
    "execution": {
     "iopub.execute_input": "2024-05-22T10:38:16.939218Z",
     "iopub.status.busy": "2024-05-22T10:38:16.938230Z",
     "iopub.status.idle": "2024-05-22T10:38:17.027732Z",
     "shell.execute_reply": "2024-05-22T10:38:17.026733Z"
    },
    "papermill": {
     "duration": 2.601922,
     "end_time": "2024-05-22T10:38:17.029629",
     "exception": false,
     "start_time": "2024-05-22T10:38:14.427707",
     "status": "completed"
    },
    "tags": []
   },
   "outputs": [],
   "source": [
    "trainer.save_model()"
   ]
  },
  {
   "cell_type": "code",
   "execution_count": null,
   "id": "67c4fa7d",
   "metadata": {
    "papermill": {
     "duration": 2.535093,
     "end_time": "2024-05-22T10:38:21.931349",
     "exception": false,
     "start_time": "2024-05-22T10:38:19.396256",
     "status": "completed"
    },
    "tags": []
   },
   "outputs": [],
   "source": []
  }
 ],
 "metadata": {
  "kaggle": {
   "accelerator": "gpu",
   "dataSources": [
    {
     "datasetId": 5061497,
     "sourceId": 8485115,
     "sourceType": "datasetVersion"
    }
   ],
   "isGpuEnabled": true,
   "isInternetEnabled": true,
   "language": "python",
   "sourceType": "notebook"
  },
  "kernelspec": {
   "display_name": "Python 3 (ipykernel)",
   "language": "python",
   "name": "python3"
  },
  "language_info": {
   "codemirror_mode": {
    "name": "ipython",
    "version": 3
   },
   "file_extension": ".py",
   "mimetype": "text/x-python",
   "name": "python",
   "nbconvert_exporter": "python",
   "pygments_lexer": "ipython3",
   "version": "3.12.3"
  },
  "papermill": {
   "default_parameters": {},
   "duration": 1835.066055,
   "end_time": "2024-05-22T10:38:27.000265",
   "environment_variables": {},
   "exception": null,
   "input_path": "__notebook__.ipynb",
   "output_path": "__notebook__.ipynb",
   "parameters": {},
   "start_time": "2024-05-22T10:07:51.934210",
   "version": "2.5.0"
  },
  "widgets": {
   "application/vnd.jupyter.widget-state+json": {
    "state": {
     "07a2a1c7f3404fc7a89c3522a1aea715": {
      "model_module": "@jupyter-widgets/base",
      "model_module_version": "1.2.0",
      "model_name": "LayoutModel",
      "state": {
       "_model_module": "@jupyter-widgets/base",
       "_model_module_version": "1.2.0",
       "_model_name": "LayoutModel",
       "_view_count": null,
       "_view_module": "@jupyter-widgets/base",
       "_view_module_version": "1.2.0",
       "_view_name": "LayoutView",
       "align_content": null,
       "align_items": null,
       "align_self": null,
       "border": null,
       "bottom": null,
       "display": null,
       "flex": null,
       "flex_flow": null,
       "grid_area": null,
       "grid_auto_columns": null,
       "grid_auto_flow": null,
       "grid_auto_rows": null,
       "grid_column": null,
       "grid_gap": null,
       "grid_row": null,
       "grid_template_areas": null,
       "grid_template_columns": null,
       "grid_template_rows": null,
       "height": null,
       "justify_content": null,
       "justify_items": null,
       "left": null,
       "margin": null,
       "max_height": null,
       "max_width": null,
       "min_height": null,
       "min_width": null,
       "object_fit": null,
       "object_position": null,
       "order": null,
       "overflow": null,
       "overflow_x": null,
       "overflow_y": null,
       "padding": null,
       "right": null,
       "top": null,
       "visibility": null,
       "width": null
      }
     },
     "14d9df260ec6457badcb0930dee29b46": {
      "model_module": "@jupyter-widgets/base",
      "model_module_version": "1.2.0",
      "model_name": "LayoutModel",
      "state": {
       "_model_module": "@jupyter-widgets/base",
       "_model_module_version": "1.2.0",
       "_model_name": "LayoutModel",
       "_view_count": null,
       "_view_module": "@jupyter-widgets/base",
       "_view_module_version": "1.2.0",
       "_view_name": "LayoutView",
       "align_content": null,
       "align_items": null,
       "align_self": null,
       "border": null,
       "bottom": null,
       "display": null,
       "flex": null,
       "flex_flow": null,
       "grid_area": null,
       "grid_auto_columns": null,
       "grid_auto_flow": null,
       "grid_auto_rows": null,
       "grid_column": null,
       "grid_gap": null,
       "grid_row": null,
       "grid_template_areas": null,
       "grid_template_columns": null,
       "grid_template_rows": null,
       "height": null,
       "justify_content": null,
       "justify_items": null,
       "left": null,
       "margin": null,
       "max_height": null,
       "max_width": null,
       "min_height": null,
       "min_width": null,
       "object_fit": null,
       "object_position": null,
       "order": null,
       "overflow": null,
       "overflow_x": null,
       "overflow_y": null,
       "padding": null,
       "right": null,
       "top": null,
       "visibility": "hidden",
       "width": null
      }
     },
     "1b3962df4a194210a3902c3f4a1d4d85": {
      "model_module": "@jupyter-widgets/controls",
      "model_module_version": "1.5.0",
      "model_name": "ProgressStyleModel",
      "state": {
       "_model_module": "@jupyter-widgets/controls",
       "_model_module_version": "1.5.0",
       "_model_name": "ProgressStyleModel",
       "_view_count": null,
       "_view_module": "@jupyter-widgets/base",
       "_view_module_version": "1.2.0",
       "_view_name": "StyleView",
       "bar_color": null,
       "description_width": ""
      }
     },
     "3429f906377c40bfb2c79aad6cc06876": {
      "model_module": "@jupyter-widgets/base",
      "model_module_version": "1.2.0",
      "model_name": "LayoutModel",
      "state": {
       "_model_module": "@jupyter-widgets/base",
       "_model_module_version": "1.2.0",
       "_model_name": "LayoutModel",
       "_view_count": null,
       "_view_module": "@jupyter-widgets/base",
       "_view_module_version": "1.2.0",
       "_view_name": "LayoutView",
       "align_content": null,
       "align_items": null,
       "align_self": null,
       "border": null,
       "bottom": null,
       "display": null,
       "flex": null,
       "flex_flow": null,
       "grid_area": null,
       "grid_auto_columns": null,
       "grid_auto_flow": null,
       "grid_auto_rows": null,
       "grid_column": null,
       "grid_gap": null,
       "grid_row": null,
       "grid_template_areas": null,
       "grid_template_columns": null,
       "grid_template_rows": null,
       "height": null,
       "justify_content": null,
       "justify_items": null,
       "left": null,
       "margin": null,
       "max_height": null,
       "max_width": null,
       "min_height": null,
       "min_width": null,
       "object_fit": null,
       "object_position": null,
       "order": null,
       "overflow": null,
       "overflow_x": null,
       "overflow_y": null,
       "padding": null,
       "right": null,
       "top": null,
       "visibility": null,
       "width": null
      }
     },
     "58e63214b406484395d9d328cc65952c": {
      "model_module": "@jupyter-widgets/controls",
      "model_module_version": "1.5.0",
      "model_name": "DescriptionStyleModel",
      "state": {
       "_model_module": "@jupyter-widgets/controls",
       "_model_module_version": "1.5.0",
       "_model_name": "DescriptionStyleModel",
       "_view_count": null,
       "_view_module": "@jupyter-widgets/base",
       "_view_module_version": "1.2.0",
       "_view_name": "StyleView",
       "description_width": ""
      }
     },
     "5afd2744d38242f98bc79c81bc4f9358": {
      "model_module": "@jupyter-widgets/controls",
      "model_module_version": "1.5.0",
      "model_name": "DescriptionStyleModel",
      "state": {
       "_model_module": "@jupyter-widgets/controls",
       "_model_module_version": "1.5.0",
       "_model_name": "DescriptionStyleModel",
       "_view_count": null,
       "_view_module": "@jupyter-widgets/base",
       "_view_module_version": "1.2.0",
       "_view_name": "StyleView",
       "description_width": ""
      }
     },
     "5d68456dbda34819a287d563b1f4f862": {
      "model_module": "@jupyter-widgets/controls",
      "model_module_version": "1.5.0",
      "model_name": "FloatProgressModel",
      "state": {
       "_dom_classes": [],
       "_model_module": "@jupyter-widgets/controls",
       "_model_module_version": "1.5.0",
       "_model_name": "FloatProgressModel",
       "_view_count": null,
       "_view_module": "@jupyter-widgets/controls",
       "_view_module_version": "1.5.0",
       "_view_name": "ProgressView",
       "bar_style": "danger",
       "description": "",
       "description_tooltip": null,
       "layout": "IPY_MODEL_07a2a1c7f3404fc7a89c3522a1aea715",
       "max": 100,
       "min": 0,
       "orientation": "horizontal",
       "style": "IPY_MODEL_1b3962df4a194210a3902c3f4a1d4d85",
       "value": 17
      }
     },
     "6172f1b7470d4252a821ba63fff58ab1": {
      "model_module": "@jupyter-widgets/controls",
      "model_module_version": "1.5.0",
      "model_name": "HTMLModel",
      "state": {
       "_dom_classes": [],
       "_model_module": "@jupyter-widgets/controls",
       "_model_module_version": "1.5.0",
       "_model_name": "HTMLModel",
       "_view_count": null,
       "_view_module": "@jupyter-widgets/controls",
       "_view_module_version": "1.5.0",
       "_view_name": "HTMLView",
       "description": "",
       "description_tooltip": null,
       "layout": "IPY_MODEL_3429f906377c40bfb2c79aad6cc06876",
       "placeholder": "​",
       "style": "IPY_MODEL_58e63214b406484395d9d328cc65952c",
       "value": " 17/100 [28:26&lt;2:13:10, 96.27s/epoch, loss=6.76e-6, val_loss=3.38e-5]"
      }
     },
     "6a7db824f97f40958f6a90c3f1b6da17": {
      "model_module": "@jupyter-widgets/controls",
      "model_module_version": "1.5.0",
      "model_name": "HTMLModel",
      "state": {
       "_dom_classes": [],
       "_model_module": "@jupyter-widgets/controls",
       "_model_module_version": "1.5.0",
       "_model_name": "HTMLModel",
       "_view_count": null,
       "_view_module": "@jupyter-widgets/controls",
       "_view_module_version": "1.5.0",
       "_view_name": "HTMLView",
       "description": "",
       "description_tooltip": null,
       "layout": "IPY_MODEL_fd69dbc64b534ea2924a2314cc626af1",
       "placeholder": "​",
       "style": "IPY_MODEL_cca2c2df77824aa19cd46415244b83ba",
       "value": "100%"
      }
     },
     "7881641107164e908962c5c7622ea32b": {
      "model_module": "@jupyter-widgets/output",
      "model_module_version": "1.0.0",
      "model_name": "OutputModel",
      "state": {
       "_dom_classes": [],
       "_model_module": "@jupyter-widgets/output",
       "_model_module_version": "1.0.0",
       "_model_name": "OutputModel",
       "_view_count": null,
       "_view_module": "@jupyter-widgets/output",
       "_view_module_version": "1.0.0",
       "_view_name": "OutputView",
       "layout": "IPY_MODEL_7ed43d07998b4b8498d500c327e2081e",
       "msg_id": "",
       "outputs": [
        {
         "data": {
          "text/html": "<pre style=\"white-space:pre;overflow-x:auto;line-height:normal;font-family:Menlo,'DejaVu Sans Mono',consolas,'Courier New',monospace\">     <span style=\"color: #3a3a3a; text-decoration-color: #3a3a3a\">━━━━━━━━━━━━━━━━━━━━━━━━━━━━━━━━━━━━━━━━</span> <span style=\"color: #008000; text-decoration-color: #008000\">0.0/115.1 kB</span> <span style=\"color: #800000; text-decoration-color: #800000\">?</span> eta <span style=\"color: #008080; text-decoration-color: #008080\">-:--:--</span>\n</pre>\n",
          "text/plain": "     \u001b[38;5;237m━━━━━━━━━━━━━━━━━━━━━━━━━━━━━━━━━━━━━━━━\u001b[0m \u001b[32m0.0/115.1 kB\u001b[0m \u001b[31m?\u001b[0m eta \u001b[36m-:--:--\u001b[0m\n"
         },
         "metadata": {},
         "output_type": "display_data"
        }
       ]
      }
     },
     "7ed43d07998b4b8498d500c327e2081e": {
      "model_module": "@jupyter-widgets/base",
      "model_module_version": "1.2.0",
      "model_name": "LayoutModel",
      "state": {
       "_model_module": "@jupyter-widgets/base",
       "_model_module_version": "1.2.0",
       "_model_name": "LayoutModel",
       "_view_count": null,
       "_view_module": "@jupyter-widgets/base",
       "_view_module_version": "1.2.0",
       "_view_name": "LayoutView",
       "align_content": null,
       "align_items": null,
       "align_self": null,
       "border": null,
       "bottom": null,
       "display": null,
       "flex": null,
       "flex_flow": null,
       "grid_area": null,
       "grid_auto_columns": null,
       "grid_auto_flow": null,
       "grid_auto_rows": null,
       "grid_column": null,
       "grid_gap": null,
       "grid_row": null,
       "grid_template_areas": null,
       "grid_template_columns": null,
       "grid_template_rows": null,
       "height": null,
       "justify_content": null,
       "justify_items": null,
       "left": null,
       "margin": null,
       "max_height": null,
       "max_width": null,
       "min_height": null,
       "min_width": null,
       "object_fit": null,
       "object_position": null,
       "order": null,
       "overflow": null,
       "overflow_x": null,
       "overflow_y": null,
       "padding": null,
       "right": null,
       "top": null,
       "visibility": null,
       "width": null
      }
     },
     "8cebd333ea024e9281bd074bd8adce15": {
      "model_module": "@jupyter-widgets/controls",
      "model_module_version": "1.5.0",
      "model_name": "DescriptionStyleModel",
      "state": {
       "_model_module": "@jupyter-widgets/controls",
       "_model_module_version": "1.5.0",
       "_model_name": "DescriptionStyleModel",
       "_view_count": null,
       "_view_module": "@jupyter-widgets/base",
       "_view_module_version": "1.2.0",
       "_view_name": "StyleView",
       "description_width": ""
      }
     },
     "94a6835a3bb5465e80bb9fa8ed8f2098": {
      "model_module": "@jupyter-widgets/base",
      "model_module_version": "1.2.0",
      "model_name": "LayoutModel",
      "state": {
       "_model_module": "@jupyter-widgets/base",
       "_model_module_version": "1.2.0",
       "_model_name": "LayoutModel",
       "_view_count": null,
       "_view_module": "@jupyter-widgets/base",
       "_view_module_version": "1.2.0",
       "_view_name": "LayoutView",
       "align_content": null,
       "align_items": null,
       "align_self": null,
       "border": null,
       "bottom": null,
       "display": null,
       "flex": null,
       "flex_flow": null,
       "grid_area": null,
       "grid_auto_columns": null,
       "grid_auto_flow": null,
       "grid_auto_rows": null,
       "grid_column": null,
       "grid_gap": null,
       "grid_row": null,
       "grid_template_areas": null,
       "grid_template_columns": null,
       "grid_template_rows": null,
       "height": null,
       "justify_content": null,
       "justify_items": null,
       "left": null,
       "margin": null,
       "max_height": null,
       "max_width": null,
       "min_height": null,
       "min_width": null,
       "object_fit": null,
       "object_position": null,
       "order": null,
       "overflow": null,
       "overflow_x": null,
       "overflow_y": null,
       "padding": null,
       "right": null,
       "top": null,
       "visibility": null,
       "width": null
      }
     },
     "994914d5e58d40b285c6faea2d622c8a": {
      "model_module": "@jupyter-widgets/controls",
      "model_module_version": "1.5.0",
      "model_name": "FloatProgressModel",
      "state": {
       "_dom_classes": [],
       "_model_module": "@jupyter-widgets/controls",
       "_model_module_version": "1.5.0",
       "_model_name": "FloatProgressModel",
       "_view_count": null,
       "_view_module": "@jupyter-widgets/controls",
       "_view_module_version": "1.5.0",
       "_view_name": "ProgressView",
       "bar_style": "",
       "description": "",
       "description_tooltip": null,
       "layout": "IPY_MODEL_a5202e6021234f50b15bb16f11a6be88",
       "max": 5015,
       "min": 0,
       "orientation": "horizontal",
       "style": "IPY_MODEL_c9c5ca08c28e44289ae57c0bbc763311",
       "value": 5015
      }
     },
     "9ddd012044c84b57a1cc44a97cb7f251": {
      "model_module": "@jupyter-widgets/base",
      "model_module_version": "1.2.0",
      "model_name": "LayoutModel",
      "state": {
       "_model_module": "@jupyter-widgets/base",
       "_model_module_version": "1.2.0",
       "_model_name": "LayoutModel",
       "_view_count": null,
       "_view_module": "@jupyter-widgets/base",
       "_view_module_version": "1.2.0",
       "_view_name": "LayoutView",
       "align_content": null,
       "align_items": null,
       "align_self": null,
       "border": null,
       "bottom": null,
       "display": null,
       "flex": null,
       "flex_flow": null,
       "grid_area": null,
       "grid_auto_columns": null,
       "grid_auto_flow": null,
       "grid_auto_rows": null,
       "grid_column": null,
       "grid_gap": null,
       "grid_row": null,
       "grid_template_areas": null,
       "grid_template_columns": null,
       "grid_template_rows": null,
       "height": null,
       "justify_content": null,
       "justify_items": null,
       "left": null,
       "margin": null,
       "max_height": null,
       "max_width": null,
       "min_height": null,
       "min_width": null,
       "object_fit": null,
       "object_position": null,
       "order": null,
       "overflow": null,
       "overflow_x": null,
       "overflow_y": null,
       "padding": null,
       "right": null,
       "top": null,
       "visibility": null,
       "width": null
      }
     },
     "a5202e6021234f50b15bb16f11a6be88": {
      "model_module": "@jupyter-widgets/base",
      "model_module_version": "1.2.0",
      "model_name": "LayoutModel",
      "state": {
       "_model_module": "@jupyter-widgets/base",
       "_model_module_version": "1.2.0",
       "_model_name": "LayoutModel",
       "_view_count": null,
       "_view_module": "@jupyter-widgets/base",
       "_view_module_version": "1.2.0",
       "_view_name": "LayoutView",
       "align_content": null,
       "align_items": null,
       "align_self": null,
       "border": null,
       "bottom": null,
       "display": null,
       "flex": null,
       "flex_flow": null,
       "grid_area": null,
       "grid_auto_columns": null,
       "grid_auto_flow": null,
       "grid_auto_rows": null,
       "grid_column": null,
       "grid_gap": null,
       "grid_row": null,
       "grid_template_areas": null,
       "grid_template_columns": null,
       "grid_template_rows": null,
       "height": null,
       "justify_content": null,
       "justify_items": null,
       "left": null,
       "margin": null,
       "max_height": null,
       "max_width": null,
       "min_height": null,
       "min_width": null,
       "object_fit": null,
       "object_position": null,
       "order": null,
       "overflow": null,
       "overflow_x": null,
       "overflow_y": null,
       "padding": null,
       "right": null,
       "top": null,
       "visibility": null,
       "width": null
      }
     },
     "a90c80cadf5449afb19fd1a7e97eafdf": {
      "model_module": "@jupyter-widgets/controls",
      "model_module_version": "1.5.0",
      "model_name": "HTMLModel",
      "state": {
       "_dom_classes": [],
       "_model_module": "@jupyter-widgets/controls",
       "_model_module_version": "1.5.0",
       "_model_name": "HTMLModel",
       "_view_count": null,
       "_view_module": "@jupyter-widgets/controls",
       "_view_module_version": "1.5.0",
       "_view_name": "HTMLView",
       "description": "",
       "description_tooltip": null,
       "layout": "IPY_MODEL_94a6835a3bb5465e80bb9fa8ed8f2098",
       "placeholder": "​",
       "style": "IPY_MODEL_5afd2744d38242f98bc79c81bc4f9358",
       "value": " 5.01k/5.01k [01:29&lt;00:00, 56.4batch/s, loss=6.76e-6]"
      }
     },
     "c9c5ca08c28e44289ae57c0bbc763311": {
      "model_module": "@jupyter-widgets/controls",
      "model_module_version": "1.5.0",
      "model_name": "ProgressStyleModel",
      "state": {
       "_model_module": "@jupyter-widgets/controls",
       "_model_module_version": "1.5.0",
       "_model_name": "ProgressStyleModel",
       "_view_count": null,
       "_view_module": "@jupyter-widgets/base",
       "_view_module_version": "1.2.0",
       "_view_name": "StyleView",
       "bar_color": null,
       "description_width": ""
      }
     },
     "cca2c2df77824aa19cd46415244b83ba": {
      "model_module": "@jupyter-widgets/controls",
      "model_module_version": "1.5.0",
      "model_name": "DescriptionStyleModel",
      "state": {
       "_model_module": "@jupyter-widgets/controls",
       "_model_module_version": "1.5.0",
       "_model_name": "DescriptionStyleModel",
       "_view_count": null,
       "_view_module": "@jupyter-widgets/base",
       "_view_module_version": "1.2.0",
       "_view_name": "StyleView",
       "description_width": ""
      }
     },
     "d5a421c4695a401c9c0e6a2642b45b3d": {
      "model_module": "@jupyter-widgets/controls",
      "model_module_version": "1.5.0",
      "model_name": "HBoxModel",
      "state": {
       "_dom_classes": [],
       "_model_module": "@jupyter-widgets/controls",
       "_model_module_version": "1.5.0",
       "_model_name": "HBoxModel",
       "_view_count": null,
       "_view_module": "@jupyter-widgets/controls",
       "_view_module_version": "1.5.0",
       "_view_name": "HBoxView",
       "box_style": "",
       "children": [
        "IPY_MODEL_fac674e40c36404fbb7b9b9e2fb7d221",
        "IPY_MODEL_5d68456dbda34819a287d563b1f4f862",
        "IPY_MODEL_6172f1b7470d4252a821ba63fff58ab1"
       ],
       "layout": "IPY_MODEL_9ddd012044c84b57a1cc44a97cb7f251"
      }
     },
     "eaad55e58e16447b8a8b9b39618b8a3e": {
      "model_module": "@jupyter-widgets/controls",
      "model_module_version": "1.5.0",
      "model_name": "HBoxModel",
      "state": {
       "_dom_classes": [],
       "_model_module": "@jupyter-widgets/controls",
       "_model_module_version": "1.5.0",
       "_model_name": "HBoxModel",
       "_view_count": null,
       "_view_module": "@jupyter-widgets/controls",
       "_view_module_version": "1.5.0",
       "_view_name": "HBoxView",
       "box_style": "",
       "children": [
        "IPY_MODEL_6a7db824f97f40958f6a90c3f1b6da17",
        "IPY_MODEL_994914d5e58d40b285c6faea2d622c8a",
        "IPY_MODEL_a90c80cadf5449afb19fd1a7e97eafdf"
       ],
       "layout": "IPY_MODEL_14d9df260ec6457badcb0930dee29b46"
      }
     },
     "f3126ee1547f4464a559aa5a1e0a3d14": {
      "model_module": "@jupyter-widgets/base",
      "model_module_version": "1.2.0",
      "model_name": "LayoutModel",
      "state": {
       "_model_module": "@jupyter-widgets/base",
       "_model_module_version": "1.2.0",
       "_model_name": "LayoutModel",
       "_view_count": null,
       "_view_module": "@jupyter-widgets/base",
       "_view_module_version": "1.2.0",
       "_view_name": "LayoutView",
       "align_content": null,
       "align_items": null,
       "align_self": null,
       "border": null,
       "bottom": null,
       "display": null,
       "flex": null,
       "flex_flow": null,
       "grid_area": null,
       "grid_auto_columns": null,
       "grid_auto_flow": null,
       "grid_auto_rows": null,
       "grid_column": null,
       "grid_gap": null,
       "grid_row": null,
       "grid_template_areas": null,
       "grid_template_columns": null,
       "grid_template_rows": null,
       "height": null,
       "justify_content": null,
       "justify_items": null,
       "left": null,
       "margin": null,
       "max_height": null,
       "max_width": null,
       "min_height": null,
       "min_width": null,
       "object_fit": null,
       "object_position": null,
       "order": null,
       "overflow": null,
       "overflow_x": null,
       "overflow_y": null,
       "padding": null,
       "right": null,
       "top": null,
       "visibility": null,
       "width": null
      }
     },
     "fac674e40c36404fbb7b9b9e2fb7d221": {
      "model_module": "@jupyter-widgets/controls",
      "model_module_version": "1.5.0",
      "model_name": "HTMLModel",
      "state": {
       "_dom_classes": [],
       "_model_module": "@jupyter-widgets/controls",
       "_model_module_version": "1.5.0",
       "_model_name": "HTMLModel",
       "_view_count": null,
       "_view_module": "@jupyter-widgets/controls",
       "_view_module_version": "1.5.0",
       "_view_name": "HTMLView",
       "description": "",
       "description_tooltip": null,
       "layout": "IPY_MODEL_f3126ee1547f4464a559aa5a1e0a3d14",
       "placeholder": "​",
       "style": "IPY_MODEL_8cebd333ea024e9281bd074bd8adce15",
       "value": " 17%"
      }
     },
     "fd69dbc64b534ea2924a2314cc626af1": {
      "model_module": "@jupyter-widgets/base",
      "model_module_version": "1.2.0",
      "model_name": "LayoutModel",
      "state": {
       "_model_module": "@jupyter-widgets/base",
       "_model_module_version": "1.2.0",
       "_model_name": "LayoutModel",
       "_view_count": null,
       "_view_module": "@jupyter-widgets/base",
       "_view_module_version": "1.2.0",
       "_view_name": "LayoutView",
       "align_content": null,
       "align_items": null,
       "align_self": null,
       "border": null,
       "bottom": null,
       "display": null,
       "flex": null,
       "flex_flow": null,
       "grid_area": null,
       "grid_auto_columns": null,
       "grid_auto_flow": null,
       "grid_auto_rows": null,
       "grid_column": null,
       "grid_gap": null,
       "grid_row": null,
       "grid_template_areas": null,
       "grid_template_columns": null,
       "grid_template_rows": null,
       "height": null,
       "justify_content": null,
       "justify_items": null,
       "left": null,
       "margin": null,
       "max_height": null,
       "max_width": null,
       "min_height": null,
       "min_width": null,
       "object_fit": null,
       "object_position": null,
       "order": null,
       "overflow": null,
       "overflow_x": null,
       "overflow_y": null,
       "padding": null,
       "right": null,
       "top": null,
       "visibility": null,
       "width": null
      }
     }
    },
    "version_major": 2,
    "version_minor": 0
   }
  }
 },
 "nbformat": 4,
 "nbformat_minor": 5
}
